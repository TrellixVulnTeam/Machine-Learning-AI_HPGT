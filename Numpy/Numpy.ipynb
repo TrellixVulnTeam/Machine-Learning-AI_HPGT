{
 "cells": [
  {
   "cell_type": "markdown",
   "id": "69b9ca16",
   "metadata": {},
   "source": [
    "# ndarray.shape\n",
    "\n",
    "# the dimension of the array. This is a tuple of integers indicating the size of the array in each dimension.\n",
    "For matrix with n rows and m columns, shape will be (n, m). The length of the shape tuple is therefore the number of axes, ndim."
   ]
  },
  {
   "cell_type": "markdown",
   "id": "78b6f8aa",
   "metadata": {},
   "source": [
    "# ndarray.size\n",
    "\n",
    "the total number of elements of the array. This is equal to the product of the elements of shape."
   ]
  },
  {
   "cell_type": "markdown",
   "id": "322ff0be",
   "metadata": {},
   "source": [
    "# ndarray.size\n",
    "\n",
    "the total number of elements of the array. This is equal to the product of the elements of shape."
   ]
  },
  {
   "cell_type": "markdown",
   "id": "dd6869ff",
   "metadata": {},
   "source": [
    "# ndarray.dtype\n",
    "\n",
    "an object describing the type of the elements in the array. One can create or specify dtype’s using standard Python types. Additionally NumPy provides types of its own. numpy.int32, numpy.int16, and numpy.float64 are some examples."
   ]
  },
  {
   "cell_type": "markdown",
   "id": "eeffe745",
   "metadata": {},
   "source": [
    "# ndarray.itemsize\n",
    "\n",
    "the size in bytes of each element of the array.\n",
    "For example, an array of elements of type float64 has \n",
    "itemsize 8 (=64/8), \n",
    "while one of type complex32 has itemsize 4 (=32/8). \n",
    "It is equivalent to ndarray.dtype. itemsize."
   ]
  },
  {
   "cell_type": "markdown",
   "id": "9b3fba22",
   "metadata": {},
   "source": [
    "## ndarray.data\n",
    "\n",
    "the buffer containing the actual elements of the array. Normally, we won’t need to use this attribute because we will access the elements in an array using indexing facilities.\n"
   ]
  },
  {
   "cell_type": "code",
   "execution_count": 16,
   "id": "8db48780",
   "metadata": {},
   "outputs": [],
   "source": [
    "import numpy as np\n",
    "import pandas as pd\n",
    "import matplotlib as plt\n",
    "import seaborn as sn"
   ]
  },
  {
   "cell_type": "code",
   "execution_count": 29,
   "id": "8e0d11c2",
   "metadata": {},
   "outputs": [],
   "source": [
    "num = np.arange(20).reshape(4, 5)"
   ]
  },
  {
   "cell_type": "code",
   "execution_count": 26,
   "id": "abe57784",
   "metadata": {},
   "outputs": [
    {
     "data": {
      "text/plain": [
       "array([[ 0,  1,  2,  3,  4],\n",
       "       [ 5,  6,  7,  8,  9],\n",
       "       [10, 11, 12, 13, 14]])"
      ]
     },
     "execution_count": 26,
     "metadata": {},
     "output_type": "execute_result"
    }
   ],
   "source": [
    "num"
   ]
  },
  {
   "cell_type": "code",
   "execution_count": 30,
   "id": "8576b0e5",
   "metadata": {},
   "outputs": [
    {
     "data": {
      "text/plain": [
       "(4, 5)"
      ]
     },
     "execution_count": 30,
     "metadata": {},
     "output_type": "execute_result"
    }
   ],
   "source": [
    "# Structure of the array\n",
    "num.shape"
   ]
  },
  {
   "cell_type": "code",
   "execution_count": 23,
   "id": "541e4cf6",
   "metadata": {},
   "outputs": [
    {
     "data": {
      "text/plain": [
       "dtype('int64')"
      ]
     },
     "execution_count": 23,
     "metadata": {},
     "output_type": "execute_result"
    }
   ],
   "source": [
    "num.dtype"
   ]
  },
  {
   "cell_type": "code",
   "execution_count": 31,
   "id": "1c5f6b98",
   "metadata": {},
   "outputs": [
    {
     "data": {
      "text/plain": [
       "20"
      ]
     },
     "execution_count": 31,
     "metadata": {},
     "output_type": "execute_result"
    }
   ],
   "source": [
    "num.size"
   ]
  },
  {
   "cell_type": "code",
   "execution_count": 33,
   "id": "5bb71976",
   "metadata": {},
   "outputs": [
    {
     "data": {
      "text/plain": [
       "<memory at 0x7fca2bf7aee0>"
      ]
     },
     "execution_count": 33,
     "metadata": {},
     "output_type": "execute_result"
    }
   ],
   "source": [
    "num.data"
   ]
  },
  {
   "cell_type": "code",
   "execution_count": 35,
   "id": "f11aa199",
   "metadata": {},
   "outputs": [
    {
     "data": {
      "text/plain": [
       "8"
      ]
     },
     "execution_count": 35,
     "metadata": {},
     "output_type": "execute_result"
    }
   ],
   "source": [
    "num.itemsize"
   ]
  },
  {
   "cell_type": "markdown",
   "id": "020dbae1",
   "metadata": {},
   "source": [
    "# ARRAY\n",
    "An array is a grid of values and it contains information about the raw data, how to locate an element, and how to interpret an element"
   ]
  },
  {
   "cell_type": "markdown",
   "id": "3d838cf4",
   "metadata": {},
   "source": [
    "# Rank\n",
    "The rank of the array is the number of dimensions."
   ]
  },
  {
   "cell_type": "code",
   "execution_count": 36,
   "id": "959e4feb",
   "metadata": {},
   "outputs": [],
   "source": [
    "a = np.array([1, 2, 3, 4, 5, 6])\n",
    "a_ = np.array([[1, 2, 3, 4], [5, 6, 7, 8], [9, 10, 11, 12]])"
   ]
  },
  {
   "cell_type": "code",
   "execution_count": 37,
   "id": "db624846",
   "metadata": {},
   "outputs": [
    {
     "data": {
      "text/plain": [
       "array([1, 2, 3, 4, 5, 6])"
      ]
     },
     "execution_count": 37,
     "metadata": {},
     "output_type": "execute_result"
    }
   ],
   "source": [
    "a "
   ]
  },
  {
   "cell_type": "code",
   "execution_count": 38,
   "id": "90b1e33c",
   "metadata": {},
   "outputs": [
    {
     "data": {
      "text/plain": [
       "array([[ 1,  2,  3,  4],\n",
       "       [ 5,  6,  7,  8],\n",
       "       [ 9, 10, 11, 12]])"
      ]
     },
     "execution_count": 38,
     "metadata": {},
     "output_type": "execute_result"
    }
   ],
   "source": [
    "a_"
   ]
  },
  {
   "cell_type": "code",
   "execution_count": 39,
   "id": "f1660cfa",
   "metadata": {},
   "outputs": [
    {
     "name": "stdout",
     "output_type": "stream",
     "text": [
      "1\n"
     ]
    }
   ],
   "source": [
    "print(a[0])"
   ]
  },
  {
   "cell_type": "code",
   "execution_count": 40,
   "id": "b6d26c07",
   "metadata": {},
   "outputs": [
    {
     "name": "stdout",
     "output_type": "stream",
     "text": [
      "4\n"
     ]
    }
   ],
   "source": [
    "# Accessing elements in the array\n",
    "print(a_[0][3])"
   ]
  },
  {
   "cell_type": "code",
   "execution_count": null,
   "id": "7636a46e",
   "metadata": {},
   "outputs": [],
   "source": [
    "# An array can also be labelled as ndarray(N-dimensional array)\n"
   ]
  }
 ],
 "metadata": {
  "kernelspec": {
   "display_name": "Python 3",
   "language": "python",
   "name": "python3"
  },
  "language_info": {
   "codemirror_mode": {
    "name": "ipython",
    "version": 3
   },
   "file_extension": ".py",
   "mimetype": "text/x-python",
   "name": "python",
   "nbconvert_exporter": "python",
   "pygments_lexer": "ipython3",
   "version": "3.8.8"
  }
 },
 "nbformat": 4,
 "nbformat_minor": 5
}
