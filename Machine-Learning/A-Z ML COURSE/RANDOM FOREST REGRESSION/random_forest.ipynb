{
 "cells": [
  {
   "cell_type": "markdown",
   "id": "8e7aafaf",
   "metadata": {},
   "source": [
    "# RANDOM FOREST IMPLEMENTATION\n",
    "\n",
    "## Random Forest Intuition\n",
    "\n",
    "Steps\n",
    "1. Pick at random K data points from the Training set.\n",
    "2. Build the Decision Tree associated to these K data points\n",
    "3. Choose the number Ntree of trees you want to build and repeat steps 1 and 2\n",
    "4. For a new data point, make each of your Ntree trees predict the value of Y for the data point  in question, and assign the new data point the average across all of the predicted Y values "
   ]
  }
 ],
 "metadata": {
  "kernelspec": {
   "display_name": "Python 3 (ipykernel)",
   "language": "python",
   "name": "python3"
  },
  "language_info": {
   "codemirror_mode": {
    "name": "ipython",
    "version": 3
   },
   "file_extension": ".py",
   "mimetype": "text/x-python",
   "name": "python",
   "nbconvert_exporter": "python",
   "pygments_lexer": "ipython3",
   "version": "3.10.4"
  }
 },
 "nbformat": 4,
 "nbformat_minor": 5
}
