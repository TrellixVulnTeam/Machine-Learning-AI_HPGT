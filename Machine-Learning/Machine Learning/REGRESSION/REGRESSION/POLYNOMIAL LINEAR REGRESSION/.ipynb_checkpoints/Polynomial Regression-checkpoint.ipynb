{
 "cells": [
  {
   "cell_type": "markdown",
   "id": "3f271645",
   "metadata": {},
   "source": [
    "# Polynomial Linear Regression is a form of Linear regression where only due to the Non-linear relationship between dependent and independent variables we add some polynomial terms to linear regression to convert it into Polynomial regression.\n",
    "\n",
    "## Suppose we have X as Independent data and Y as dependent data. Before feeding data to a mode in preprocessing stage we convert the input variables into polynomial terms using some degree.\n",
    "\n",
    "### Consider an example my input value is 35 and the degree of a polynomial is 2 so I will find 35 power 0, 35 power 1, and 35 power 2 And this helps to interpret the non-linear relationship in data.\n",
    "The equation of polynomial becomes something like this."
   ]
  },
  {
   "cell_type": "markdown",
   "id": "1d078842",
   "metadata": {},
   "source": [
    "          y = a0 + a1*x1 + a2*x1^2 + an*x1^2\n",
    "          \n",
    "          Called Polynomial Linear Regression because of the coefficients"
   ]
  },
  {
   "cell_type": "markdown",
   "id": "f2f68d2e",
   "metadata": {},
   "source": [
    "# PRACTICE OF POLYNOMIAL LINEAR REGRESSION\n"
   ]
  },
  {
   "cell_type": "code",
   "execution_count": 1,
   "id": "705f7e11",
   "metadata": {},
   "outputs": [],
   "source": [
    "# import dataset\n",
    "import pandas as pd\n",
    "import numpy as np\n",
    "import matplotlib.pyplot as mlt"
   ]
  },
  {
   "cell_type": "code",
   "execution_count": null,
   "id": "56748e3b",
   "metadata": {},
   "outputs": [],
   "source": []
  }
 ],
 "metadata": {
  "kernelspec": {
   "display_name": "Python 3 (ipykernel)",
   "language": "python",
   "name": "python3"
  },
  "language_info": {
   "codemirror_mode": {
    "name": "ipython",
    "version": 3
   },
   "file_extension": ".py",
   "mimetype": "text/x-python",
   "name": "python",
   "nbconvert_exporter": "python",
   "pygments_lexer": "ipython3",
   "version": "3.10.4"
  }
 },
 "nbformat": 4,
 "nbformat_minor": 5
}
